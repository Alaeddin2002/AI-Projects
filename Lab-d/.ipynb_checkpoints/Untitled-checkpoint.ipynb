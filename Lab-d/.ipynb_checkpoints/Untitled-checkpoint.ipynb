{
 "cells": [
  {
   "cell_type": "markdown",
   "metadata": {},
   "source": [
    "### "
   ]
  },
  {
   "cell_type": "code",
   "execution_count": 119,
   "metadata": {},
   "outputs": [
    {
     "name": "stdout",
     "output_type": "stream",
     "text": [
      "Loss 1.8669284799406436\n",
      "Loss 1.7704253792606908\n",
      "Loss 1.7338716794878262\n",
      "Loss 1.7437727552469875\n",
      "Loss 1.7937483736657376\n",
      "Loss 1.8784311336998896\n",
      "Loss 1.9915457342678624\n",
      "Loss 2.0816485201785353\n",
      "Loss 2.2322898702061234\n",
      "Loss 2.423375789214213\n",
      "Loss 2.609817143426078\n",
      "{'hidden_weights': array([[-31.81415733,  12.01463762],\n",
      "       [ 11.50938772, -29.16146369]]), 'hidden_biases': array([[-13.06759674],\n",
      "       [-12.18300924]]), 'output_weights': array([[-1.32405668,  3.87513527],\n",
      "       [ 4.71825942, -2.68179279]]), 'output_biases': array([[-0.86619085],\n",
      "       [-3.40555627]])}\n"
     ]
    }
   ],
   "source": [
    "import numpy as np\n",
    "\n",
    "def sigmoid(x):\n",
    "    return 1/(1 + np.exp(-x))\n",
    "\n",
    "def init_weights_biases(num_input_nodes, num_hidden_nodes, num_output_nodes):\n",
    "    parameter_dictionary = {}\n",
    "    parameter_dictionary['hidden_biases'] = np.zeros((num_hidden_nodes,1))\n",
    "    parameter_dictionary['output_biases'] = np.zeros((num_output_nodes,1))\n",
    "    parameter_dictionary['hidden_weights'] = np.random.randn(num_hidden_nodes,num_input_nodes)\n",
    "    parameter_dictionary['output_weights'] = np.random.randn(num_output_nodes,num_hidden_nodes)\n",
    "    return parameter_dictionary\n",
    "\n",
    "def read_file_to_array(file):\n",
    "    feature = []\n",
    "    label = []\n",
    "    headers = []\n",
    "    read_file = open(file, 'r')\n",
    "    lines = read_file.readlines()\n",
    "    for j in range(0,int(len(lines[1])/2)-1):\n",
    "        feature.append([])\n",
    "    for i in range(1,len(lines)):\n",
    "        temp_list = []\n",
    "        for j in range(0,int(len(lines[1])/2)-1):\n",
    "            if lines[i][j] == '\\t':\n",
    "                temp_list += lines[i][j+1]\n",
    "            else:\n",
    "                temp_list += lines[i][j]\n",
    "        for i in range(len(temp_list)):\n",
    "            x = float(temp_list[i])\n",
    "            feature[i].append (x)\n",
    "    for i in range(len(feature)):\n",
    "        feature_array = np.array([feature])\n",
    "    \n",
    "    ################################\n",
    "    for i in range(len(lines)):\n",
    "        if lines[i][-2] == 't':\n",
    "            continue\n",
    "        else:\n",
    "            label.append(float(lines[i][-2]))\n",
    "    for i in range(len(label)):\n",
    "        label_array = np.array([[label]])\n",
    "    \n",
    "    ###################################\n",
    "    for i in range(0,int(len(lines[1])/2)):\n",
    "        headers.append([])\n",
    "    headers[0].append(lines[0][0])\n",
    "    headers[1].append(lines[0][2])\n",
    "    headers[2].append('output')\n",
    "    for i in range(len(headers)):\n",
    "        header_array = np.array(headers)\n",
    "    \n",
    "    \n",
    "    features = feature_array[0]\n",
    "    labels = label_array[0]\n",
    "    headers = header_array\n",
    "    return(features,labels,headers)\n",
    "\n",
    "features , labels , headers = read_file_to_array(\"xor.txt\")\n",
    "def forward_propagate(features,dict):\n",
    "    hidden_layer_values = np.dot(dict['hidden_weights'], features)+dict['hidden_biases']\n",
    "    hidden_layer_outputs = sigmoid(hidden_layer_values)\n",
    "    \n",
    "    output_layer_values = np.dot(dict['output_weights'], features)+dict['output_biases']\n",
    "    output_layer_outputs = sigmoid(output_layer_values)\n",
    "    output_vals = {\"hidden_layer_outputs\": hidden_layer_outputs,\"output_layer_outputs\": output_layer_outputs}\n",
    "    return (output_vals)\n",
    "\n",
    "\n",
    "forward_propagate(features,init_weights_biases(2, 2, 1))\n",
    "print(forward_propagate)\n",
    "print(features)\n",
    "print(labels)\n",
    "print(headers)\n",
    "#init_weights_biases(2,2,1)\n"
   ]
  },
  {
   "cell_type": "code",
   "execution_count": null,
   "metadata": {},
   "outputs": [],
   "source": []
  }
 ],
 "metadata": {
  "kernelspec": {
   "display_name": "Python 3",
   "language": "python",
   "name": "python3"
  },
  "language_info": {
   "codemirror_mode": {
    "name": "ipython",
    "version": 3
   },
   "file_extension": ".py",
   "mimetype": "text/x-python",
   "name": "python",
   "nbconvert_exporter": "python",
   "pygments_lexer": "ipython3",
   "version": "3.7.4"
  }
 },
 "nbformat": 4,
 "nbformat_minor": 2
}
